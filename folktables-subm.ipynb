{
 "cells": [
  {
   "cell_type": "code",
   "execution_count": null,
   "id": "5c897a71",
   "metadata": {},
   "outputs": [],
   "source": [
    "from folktables import ACSDataSource, ACSEmployment, ACSIncome\n",
    "import folktables"
   ]
  },
  {
   "cell_type": "code",
   "execution_count": null,
   "id": "9264c7a1",
   "metadata": {},
   "outputs": [],
   "source": [
    "from sklearn.linear_model import LinearRegression, LogisticRegression\n",
    "from sklearn.model_selection import train_test_split\n",
    "states = folktables.state_list"
   ]
  },
  {
   "cell_type": "code",
   "execution_count": null,
   "id": "202935f7",
   "metadata": {},
   "outputs": [],
   "source": [
    "import sys\n",
    "sys.path.append('code/')"
   ]
  },
  {
   "cell_type": "code",
   "execution_count": null,
   "id": "8f2d47c2",
   "metadata": {},
   "outputs": [],
   "source": [
    "%load_ext autoreload\n",
    "%autoreload 2"
   ]
  },
  {
   "cell_type": "code",
   "execution_count": null,
   "id": "fafe014d",
   "metadata": {},
   "outputs": [],
   "source": [
    "import train"
   ]
  },
  {
   "cell_type": "code",
   "execution_count": null,
   "id": "97213fff",
   "metadata": {},
   "outputs": [],
   "source": [
    "big_states = ['CA', 'FL', 'GA', 'IL', 'NY', 'NC', 'OH', 'PA', 'TX']\n",
    "\n",
    "all_categorical_features = ['COW', 'MAR', 'OCCP', 'SEX']"
   ]
  },
  {
   "cell_type": "code",
   "execution_count": null,
   "id": "337ed888",
   "metadata": {},
   "outputs": [],
   "source": []
  },
  {
   "cell_type": "code",
   "execution_count": null,
   "id": "fc648a47",
   "metadata": {},
   "outputs": [],
   "source": [
    "data_source2019 = ACSDataSource(survey_year='2019', horizon='1-Year', survey='person')\n",
    "\n",
    "data_source2021 = ACSDataSource(survey_year='2021', horizon='1-Year', survey='person')\n",
    "\n",
    "def get_data(state, random_state1=30291243, random_state2=5027):\n",
    "    state2019 = data_source2019.get_data(states=[state], download=False)\n",
    "\n",
    "    state2021 = data_source2021.get_data(states=[state], download=False)\n",
    "\n",
    "    by_year = {2019: state2019, 2021: state2021}\n",
    "\n",
    "    by_year_data_split = {\"train\": {}, \"test\": {}, \"validation\": {}}\n",
    "    for year, data in by_year.items():\n",
    "        print(data.shape)\n",
    "        data_train, data_test = train_test_split(data, test_size=0.3, random_state=random_state1)\n",
    "        by_year_data_split[\"test\"][year] = data_test\n",
    "        data_train, data_validation = train_test_split(data_train, test_size=0.5, random_state=random_state2)\n",
    "        by_year_data_split[\"train\"][year] = data_train\n",
    "        by_year_data_split[\"validation\"][year] = data_validation\n",
    "    return by_year_data_split"
   ]
  },
  {
   "cell_type": "code",
   "execution_count": null,
   "id": "4a47968f",
   "metadata": {},
   "outputs": [],
   "source": [
    "definition_df = data_source2019.get_definitions(download=True)\n",
    "categories = folktables.generate_categories(features=all_categorical_features, definition_df=definition_df)"
   ]
  },
  {
   "cell_type": "code",
   "execution_count": null,
   "id": "68d6587d",
   "metadata": {},
   "outputs": [],
   "source": [
    "all_repetitions = {}\n",
    "for repetition in range(10):\n",
    "    print(f\"REPEAT {repetition}\")\n",
    "    \n",
    "    all_states = {}\n",
    "    for state in big_states:\n",
    "        print(\"-------------- STATE\")\n",
    "        print(state)\n",
    "        by_year_data_split = get_data(state, random_state1=None, random_state2=None)\n",
    "        stable_features = [\n",
    "        #         'AGEP',\n",
    "        #         'COW',\n",
    "                'SCHL',\n",
    "        #         'MAR',\n",
    "        #         'OCCP',\n",
    "        #         'WKHP',\n",
    "        #          'SEX',\n",
    "        #         'JWMNP'  # travel time\n",
    "        ]\n",
    "        unstable_features = [\n",
    "            'HINS4', #medicaid\n",
    "            'JWMNP'\n",
    "        ]\n",
    "        unstable_feature_targets = [('SCHL', LinearRegression)]# ['AGEP'] # 'SCHL'\n",
    "\n",
    "\n",
    "        res = train.train(by_year_data_split, categories, 2019, stable_features, unstable_features, unstable_feature_targets)\n",
    "        all_states[state] = res\n",
    "        metric = \"accuracy\"\n",
    "        for method in ['all', 'aux', 'without']:\n",
    "            r2019 = res[2019]['validation'][method][metric]\n",
    "            r2021 = res[2021]['validation'][method][metric]\n",
    "            print(f\"2019 {r2019:.3f} 2021 {r2021:.3f} for {method}\")\n",
    "    all_repetitions[repetition] = all_states"
   ]
  },
  {
   "cell_type": "code",
   "execution_count": null,
   "id": "9db00818",
   "metadata": {},
   "outputs": [],
   "source": [
    "metric = \"accuracy\"\n",
    "split = \"test\"\n",
    "\n",
    "across_repetitions = {}\n",
    "\n",
    "for state in big_states:\n",
    "    across_repetitions[state] = {}\n",
    "    for year in [2019, 2021]:\n",
    "        across_repetitions[state][year] = {}\n",
    "        for split in [\"train\", \"validation\", \"test\"]:\n",
    "            across_repetitions[state][year][split] = {}\n",
    "            print(split)\n",
    "            for method in ['all', 'aux', 'without']:\n",
    "                across_repetitions[state][year][split][method] = {}\n",
    "                results = [\n",
    "                    all_repetitions[repetition][state][year][split][method][metric] for repetition in all_repetitions.keys()]\n",
    "                print(results)\n",
    "                across_repetitions[state][year][split][method][metric] = np.mean(results)\n",
    "                across_repetitions[state][year][split][method][metric + \"_std\"] = np.std(results)\n",
    "across_repetitions"
   ]
  },
  {
   "cell_type": "code",
   "execution_count": null,
   "id": "a41639a9",
   "metadata": {},
   "outputs": [],
   "source": [
    "def report_accuracy(all_states, big_states, years=[2019, 2021], split='validation'):\n",
    "    metric = 'accuracy'\n",
    "    for state in big_states:\n",
    "        print(state)\n",
    "        for method in ['all', 'aux', 'without']:\n",
    "            r2019 = all_states[state][2019][split][method][metric]\n",
    "            r2019_l = all_states[state][2019][split][method]['accuracy_std']\n",
    "            r2021 = all_states[state][2021][split][method][metric]\n",
    "            r2021_l = all_states[state][2021][split][method]['accuracy_std']\n",
    "            \n",
    "            print(f\"2019 {r2019:.3f} +/- {r2019_l:.4f}, 2021 {r2021:.3f}  +/-  {r2021_l:.4f}  for {method}\")\n",
    "\n",
    "    m = {\n",
    "        2019: {'all': [], 'aux': [], 'without':[]},\n",
    "        2021: {'all': [], 'aux': [], 'without':[]}\n",
    "    }\n",
    "\n",
    "    for state in big_states:\n",
    "        \n",
    "        results = f\"{state} \"\n",
    "        for year in years:\n",
    "            for method in ['all', 'aux', 'without']:\n",
    "                r = all_states[state][year][split][method][metric]\n",
    "                r_std = all_states[state][year][split][method]['accuracy_std']\n",
    "                results = results + f\" & {round(r,3)} \\plusminus {round(r_std,4)}\"\n",
    "                \n",
    "                m[year][method].append(r)\n",
    "                \n",
    "        print(f\"{results} \\\\\\\\\")\n",
    "    for year in years:\n",
    "        print(year)\n",
    "        for method in ['all', 'aux', 'without']:  \n",
    "            print(method)\n",
    "            print(\n",
    "             f\"mean {round(np.mean(m[year][method]),3)}  min {np.min(m[year][method]):.3f} q25 {np.quantile(m[year][method], 0.25):.3f} q50 {np.quantile(m[year][method], 0.5):.3f} q75 {np.quantile(m[year][method], 0.75):.3f}\")"
   ]
  },
  {
   "cell_type": "code",
   "execution_count": null,
   "id": "7266282a",
   "metadata": {},
   "outputs": [],
   "source": [
    "import evaluate\n",
    "evaluate.report_accuracy_with_std_dev(across_repetitions, big_states, years=[2019, 2021], split='test')"
   ]
  },
  {
   "cell_type": "code",
   "execution_count": null,
   "id": "93581745",
   "metadata": {},
   "outputs": [],
   "source": [
    "evaluate.report_accuracy_with_std_dev(across_repetitions, big_states, years=[2021], split='test')"
   ]
  },
  {
   "cell_type": "code",
   "execution_count": null,
   "id": "85b09b00",
   "metadata": {},
   "outputs": [],
   "source": [
    "evaluate.report_accuracy_with_std_dev(across_repetitions, big_states, years=[2021], split='validation')"
   ]
  },
  {
   "cell_type": "code",
   "execution_count": null,
   "id": "7ace64ce",
   "metadata": {},
   "outputs": [],
   "source": [
    "evaluate.report_accuracy_with_std_dev(across_repetitions, big_states, years=[2019], split='test')"
   ]
  },
  {
   "cell_type": "code",
   "execution_count": null,
   "id": "65836ccd",
   "metadata": {},
   "outputs": [],
   "source": [
    "evaluate.report_accuracy_with_std_dev(across_repetitions, big_states, years=[2019], split='validation')"
   ]
  },
  {
   "cell_type": "markdown",
   "id": "044aea22",
   "metadata": {},
   "source": [
    "# Explore single features"
   ]
  },
  {
   "cell_type": "code",
   "execution_count": null,
   "id": "20ba5eec",
   "metadata": {},
   "outputs": [],
   "source": [
    "import numpy as np\n",
    "single_feature_eval = {}\n",
    "features=[\n",
    "        'AGEP',\n",
    "        'COW',\n",
    "        'SCHL',\n",
    "        'MAR',\n",
    "        'OCCP',\n",
    "        'POBP',\n",
    "#         'RELP',\n",
    "        'WKHP',\n",
    "        'SEX',\n",
    "        'RAC1P',\n",
    "        'JWMNP',  # travel time\n",
    "        'HINS4',\n",
    "]\n",
    "for f in features:\n",
    "    print(f)\n",
    "    single_feature_eval[f] = {}\n",
    "    ACSIncomeOneFeature = folktables.BasicProblem(\n",
    "        features=[\n",
    "            f\n",
    "        ],\n",
    "        target='PINCP',\n",
    "        target_transform=lambda x: x > 50000,\n",
    "        preprocess=folktables.acs.adult_filter,\n",
    "        postprocess=lambda x: np.nan_to_num(x, -1),\n",
    "    )\n",
    "    for year in [2019]:\n",
    "        x, y, _ = ACSIncomeOneFeature.df_to_pandas(by_year_data_split[\"train\"][year], categories=categories, dummies=True)\n",
    "        feature_names = x.columns\n",
    "        model = LogisticRegression()\n",
    "        model.fit(x, y.values)\n",
    "        evaluations = []\n",
    "        for other_year in [2019, 2021]:\n",
    "            eval_x, eval_y, _ = ACSIncomeOneFeature.df_to_pandas(by_year_data_split[\"validation\"][other_year], categories=categories, dummies=True)\n",
    "            for c in x.columns:  # pad missing columns\n",
    "                if c not in eval_x.columns:\n",
    "                    eval_x[c] = 0\n",
    "            eval_x = eval_x[x.columns] # eliminate extra columns\n",
    "            evaluations.append(model.score(eval_x, eval_y.values))\n",
    "            print(np.mean(eval_y.values))\n",
    "            \n",
    "        single_feature_eval[f][year] = evaluations"
   ]
  },
  {
   "cell_type": "code",
   "execution_count": null,
   "id": "c7e81b8e",
   "metadata": {},
   "outputs": [],
   "source": [
    "ACSIncomeOneFeature = folktables.BasicProblem(\n",
    "        features=[\n",
    "            'SCHL', \n",
    "            'JWMNP',  # travel time\n",
    "        'HINS4',\n",
    "        ],\n",
    "        target='PINCP',\n",
    "        target_transform=lambda x: x > 50000,\n",
    "        preprocess=folktables.acs.adult_filter,\n",
    "        postprocess=lambda x: np.nan_to_num(x, -1),\n",
    "    )\n",
    "\n",
    "\n",
    "x, y, _ = ACSIncomeOneFeature.df_to_pandas(by_year_data_split[\"train\"][year], categories=categories, dummies=True)"
   ]
  },
  {
   "cell_type": "code",
   "execution_count": null,
   "id": "c272326a",
   "metadata": {},
   "outputs": [],
   "source": [
    "for k, v in single_feature_eval.items():\n",
    "    print(k, v)\n",
    "    print(k, v[2019][0] - v[2019][1])"
   ]
  },
  {
   "cell_type": "code",
   "execution_count": null,
   "id": "cba64ae1",
   "metadata": {},
   "outputs": [],
   "source": []
  }
 ],
 "metadata": {
  "kernelspec": {
   "display_name": "py38f",
   "language": "python",
   "name": "py38f"
  },
  "language_info": {
   "codemirror_mode": {
    "name": "ipython",
    "version": 3
   },
   "file_extension": ".py",
   "mimetype": "text/x-python",
   "name": "python",
   "nbconvert_exporter": "python",
   "pygments_lexer": "ipython3",
   "version": "3.8.16"
  }
 },
 "nbformat": 4,
 "nbformat_minor": 5
}
